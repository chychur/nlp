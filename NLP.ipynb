{
  "nbformat": 4,
  "nbformat_minor": 0,
  "metadata": {
    "colab": {
      "provenance": [],
      "authorship_tag": "ABX9TyMk+d6GFg/rGBuaFgeXhkxI",
      "include_colab_link": true
    },
    "kernelspec": {
      "name": "python3",
      "display_name": "Python 3"
    },
    "language_info": {
      "name": "python"
    }
  },
  "cells": [
    {
      "cell_type": "markdown",
      "metadata": {
        "id": "view-in-github",
        "colab_type": "text"
      },
      "source": [
        "<a href=\"https://colab.research.google.com/github/chychur/nlp/blob/main/NLP.ipynb\" target=\"_parent\"><img src=\"https://colab.research.google.com/assets/colab-badge.svg\" alt=\"Open In Colab\"/></a>"
      ]
    },
    {
      "cell_type": "markdown",
      "source": [
        "### Natural Language Processing (NLP)\n",
        "\n",
        "Using the libraries for NLP: nltk and SpaCy, we will make a summary of the following text:\n",
        "\n",
        "```\n",
        "The Orbiter Discovery, OV-103, is considered eligible for listing in the National Register of Historic Places (NRHP) in the context of the U.S. Space Shuttle Program (1969-2011) under Criterion A in the areas of Space Exploration and Transportation and under Criterion C in the area of Engineering. Because it has achieved significance within the past fifty years, Criteria Consideration G applies. Under Criterion A, Discovery is significant as the oldest of the three extant orbiter vehicles constructed for the Space Shuttle Program (SSP), the longest running American space program to date; she was the third of five orbiters built by NASA. Unlike the Mercury, Gemini, and Apollo programs, the SSP’s emphasis was on cost effectiveness and reusability, and eventually the construction of a space station. Including her maiden voyage (launched August 30, 1984), Discovery flew to space thirty-nine times, more than any of the other four orbiters; she was also the first orbiter to fly twenty missions. She had the honor of being chosen as the Return to Flight vehicle after both the Challenger and Columbia accidents. Discovery was the first shuttle to fly with the redesigned SRBs, a result of the Challenger accident, and the first shuttle to fly with the Phase II and Block I SSME. Discovery also carried the Hubble Space Telescope to orbit and performed two of the five servicing missions to the observatory. She flew the first and last dedicated Department of Defense (DoD) missions, as well as the first unclassified defense-related mission. In addition, Discovery was vital to the construction of the International Space Station (ISS); she flew thirteen of the thirty-seven total missions flown to the station by a U.S. Space Shuttle. She was the first orbiter to dock to the ISS, and the first to perform an exchange of a resident crew. Under Criterion C, Discovery is significant as a feat of engineering. According to Wayne Hale, a flight director from Johnson Space Center, the Space Shuttle orbiter represents a “huge technological leap from expendable rockets and capsules to a reusable, winged, hypersonic, cargo-carrying spacecraft.” Although her base structure followed a conventional aircraft design, she used advanced materials that both minimized her weight for cargo-carrying purposes and featured low thermal expansion ratios, which provided a stable base for her Thermal Protection System (TPS) materials. The Space Shuttle orbiter also featured the first reusable TPS; all previous spaceflight vehicles had a single-use, ablative heat shield. Other notable engineering achievements of the orbiter included the first reusable orbital propulsion system, and the first two-fault-tolerant Integrated Avionics System. As Hale stated, the Space Shuttle remains “the largest, fastest, winged hypersonic aircraft in history,” having regularly flown at twenty-five times the speed of sound.\n",
        "```\n",
        "\n",
        "Let's download the required language model, for English - `\"en_core_web_sm\"`:\n",
        "\n",
        "```python\n",
        "nlp = spacy.load('en_core_web_sm')\n",
        "```\n",
        "\n",
        "We will prepare the text and remove unnecessary symbols, tokenization (breaking the text into separate words or sentences), stop words (words that do not carry essential information) and, if necessary, other text processing, such as stemming or lemmatization.\n",
        "\n",
        "So, the summary variable will contain a select_length list of the best sentences from the sentence_scores dictionary in descending order of scores."
      ],
      "metadata": {
        "id": "VFSBzsrl1C7l"
      }
    },
    {
      "cell_type": "code",
      "execution_count": 6,
      "metadata": {
        "id": "7riyKwJh1AwW"
      },
      "outputs": [],
      "source": [
        "import spacy\n",
        "import nltk\n",
        "\n",
        "from nltk.corpus import stopwords\n",
        "from nltk.tokenize import word_tokenize, sent_tokenize\n",
        "from heapq import nlargest"
      ]
    },
    {
      "cell_type": "code",
      "source": [
        "# Language models download\n",
        "nlp = spacy.load('en_core_web_sm')\n",
        "nltk.download('stopwords')\n",
        "nltk.download('punkt')"
      ],
      "metadata": {
        "colab": {
          "base_uri": "https://localhost:8080/"
        },
        "id": "BKPCT-bt1nRc",
        "outputId": "bd461db3-2eb9-43f7-9cea-7000362b32df"
      },
      "execution_count": 2,
      "outputs": [
        {
          "output_type": "stream",
          "name": "stderr",
          "text": [
            "[nltk_data] Downloading package stopwords to /root/nltk_data...\n",
            "[nltk_data]   Unzipping corpora/stopwords.zip.\n",
            "[nltk_data] Downloading package punkt to /root/nltk_data...\n",
            "[nltk_data]   Unzipping tokenizers/punkt.zip.\n"
          ]
        },
        {
          "output_type": "execute_result",
          "data": {
            "text/plain": [
              "True"
            ]
          },
          "metadata": {},
          "execution_count": 2
        }
      ]
    },
    {
      "cell_type": "code",
      "source": [
        "# Text to process\n",
        "text = \"The Orbiter Discovery, OV-103, is considered eligible for listing in the National Register of Historic Places (NRHP) in the context of the U.S. Space Shuttle Program (1969-2011) under Criterion A in the areas of Space Exploration and Transportation and under Criterion C in the area of Engineering. Because it has achieved significance within the past fifty years, Criteria Consideration G applies. Under Criterion A, Discovery is significant as the oldest of the three extant orbiter vehicles constructed for the Space Shuttle Program (SSP), the longest running American space program to date; she was the third of five orbiters built by NASA. Unlike the Mercury, Gemini, and Apollo programs, the SSP’s emphasis was on cost effectiveness and reusability, and eventually the construction of a space station. Including her maiden voyage (launched August 30, 1984), Discovery flew to space thirty-nine times, more than any of the other four orbiters; she was also the first orbiter to fly twenty missions. She had the honor of being chosen as the Return to Flight vehicle after both the Challenger and Columbia accidents. Discovery was the first shuttle to fly with the redesigned SRBs, a result of the Challenger accident, and the first shuttle to fly with the Phase II and Block I SSME. Discovery also carried the Hubble Space Telescope to orbit and performed two of the five servicing missions to the observatory. She flew the first and last dedicated Department of Defense (DoD) missions, as well as the first unclassified defense-related mission. In addition, Discovery was vital to the construction of the International Space Station (ISS); she flew thirteen of the thirty-seven total missions flown to the station by a U.S. Space Shuttle. She was the first orbiter to dock to the ISS, and the first to perform an exchange of a resident crew. Under Criterion C, Discovery is significant as a feat of engineering. According to Wayne Hale, a flight director from Johnson Space Center, the Space Shuttle orbiter represents a “huge technological leap from expendable rockets and capsules to a reusable, winged, hypersonic, cargo-carrying spacecraft.” Although her base structure followed a conventional aircraft design, she used advanced materials that both minimized her weight for cargo-carrying purposes and featured low thermal expansion ratios, which provided a stable base for her Thermal Protection System (TPS) materials. The Space Shuttle orbiter also featured the first reusable TPS; all previous spaceflight vehicles had a single-use, ablative heat shield. Other notable engineering achievements of the orbiter included the first reusable orbital propulsion system, and the first two-fault-tolerant Integrated Avionics System. As Hale stated, the Space Shuttle remains “the largest, fastest, winged hypersonic aircraft in history,” having regularly flown at twenty-five times the speed of sound.\"\n",
        "\n",
        "# Word tokenization:\n",
        "tokens = word_tokenize(text)\n",
        "sentences = sent_tokenize(text)\n",
        "stop_words = set(stopwords.words('english'))"
      ],
      "metadata": {
        "id": "Iu2GGvwy2Oia"
      },
      "execution_count": 3,
      "outputs": []
    },
    {
      "cell_type": "code",
      "source": [
        "# Extra characters, numbers and stop words removing\n",
        "tokens = [word for word in tokens if word.isalpha()]\n",
        "filtered_tokens = [word for word in tokens if word.lower() not in stop_words]\n",
        "\n",
        "print(filtered_tokens)"
      ],
      "metadata": {
        "colab": {
          "base_uri": "https://localhost:8080/"
        },
        "id": "3X2FNbtO3QfS",
        "outputId": "f044b5e0-0bb1-4f12-b0b3-25594d91cd8e"
      },
      "execution_count": 5,
      "outputs": [
        {
          "output_type": "stream",
          "name": "stdout",
          "text": [
            "['Orbiter', 'Discovery', 'considered', 'eligible', 'listing', 'National', 'Register', 'Historic', 'Places', 'NRHP', 'context', 'Space', 'Shuttle', 'Program', 'Criterion', 'areas', 'Space', 'Exploration', 'Transportation', 'Criterion', 'C', 'area', 'Engineering', 'achieved', 'significance', 'within', 'past', 'fifty', 'years', 'Criteria', 'Consideration', 'G', 'applies', 'Criterion', 'Discovery', 'significant', 'oldest', 'three', 'extant', 'orbiter', 'vehicles', 'constructed', 'Space', 'Shuttle', 'Program', 'SSP', 'longest', 'running', 'American', 'space', 'program', 'date', 'third', 'five', 'orbiters', 'built', 'NASA', 'Unlike', 'Mercury', 'Gemini', 'Apollo', 'programs', 'SSP', 'emphasis', 'cost', 'effectiveness', 'reusability', 'eventually', 'construction', 'space', 'station', 'Including', 'maiden', 'voyage', 'launched', 'August', 'Discovery', 'flew', 'space', 'times', 'four', 'orbiters', 'also', 'first', 'orbiter', 'fly', 'twenty', 'missions', 'honor', 'chosen', 'Return', 'Flight', 'vehicle', 'Challenger', 'Columbia', 'accidents', 'Discovery', 'first', 'shuttle', 'fly', 'redesigned', 'SRBs', 'result', 'Challenger', 'accident', 'first', 'shuttle', 'fly', 'Phase', 'II', 'Block', 'SSME', 'Discovery', 'also', 'carried', 'Hubble', 'Space', 'Telescope', 'orbit', 'performed', 'two', 'five', 'servicing', 'missions', 'observatory', 'flew', 'first', 'last', 'dedicated', 'Department', 'Defense', 'DoD', 'missions', 'well', 'first', 'unclassified', 'mission', 'addition', 'Discovery', 'vital', 'construction', 'International', 'Space', 'Station', 'ISS', 'flew', 'thirteen', 'total', 'missions', 'flown', 'station', 'Space', 'Shuttle', 'first', 'orbiter', 'dock', 'ISS', 'first', 'perform', 'exchange', 'resident', 'crew', 'Criterion', 'C', 'Discovery', 'significant', 'feat', 'engineering', 'According', 'Wayne', 'Hale', 'flight', 'director', 'Johnson', 'Space', 'Center', 'Space', 'Shuttle', 'orbiter', 'represents', 'huge', 'technological', 'leap', 'expendable', 'rockets', 'capsules', 'reusable', 'winged', 'hypersonic', 'Although', 'base', 'structure', 'followed', 'conventional', 'aircraft', 'design', 'used', 'advanced', 'materials', 'minimized', 'weight', 'purposes', 'featured', 'low', 'thermal', 'expansion', 'ratios', 'provided', 'stable', 'base', 'Thermal', 'Protection', 'System', 'TPS', 'materials', 'Space', 'Shuttle', 'orbiter', 'also', 'featured', 'first', 'reusable', 'TPS', 'previous', 'spaceflight', 'vehicles', 'ablative', 'heat', 'shield', 'notable', 'engineering', 'achievements', 'orbiter', 'included', 'first', 'reusable', 'orbital', 'propulsion', 'system', 'first', 'Integrated', 'Avionics', 'System', 'Hale', 'stated', 'Space', 'Shuttle', 'remains', 'largest', 'fastest', 'winged', 'hypersonic', 'aircraft', 'history', 'regularly', 'flown', 'times', 'speed', 'sound']\n"
          ]
        }
      ]
    },
    {
      "cell_type": "code",
      "source": [
        "# Weight words calculation\n",
        "word_frequencies = {}\n",
        "for word in filtered_tokens:\n",
        "    if word not in word_frequencies.keys():\n",
        "        word_frequencies[word] = 1\n",
        "    else:\n",
        "        word_frequencies[word] += 1"
      ],
      "metadata": {
        "id": "Ww2kT-aB3RgY"
      },
      "execution_count": 7,
      "outputs": []
    },
    {
      "cell_type": "code",
      "source": [
        "# Weight sentences calculation\n",
        "doc = nlp(text)\n",
        "sentence_scores = {}\n",
        "for sent in doc.sents:\n",
        "    for word in sent:\n",
        "        if word.text.lower() in word_frequencies:\n",
        "            if sent not in sentence_scores:\n",
        "                sentence_scores[sent] = word_frequencies[word.text.lower()]\n",
        "            else:\n",
        "                sentence_scores[sent] += word_frequencies[word.text.lower()]"
      ],
      "metadata": {
        "id": "8SgjPHmG3UV6"
      },
      "execution_count": 8,
      "outputs": []
    },
    {
      "cell_type": "code",
      "source": [
        "# Summary\n",
        "select_length = int(len(sentences))\n",
        "summary = nlargest(select_length, sentence_scores, key=sentence_scores.get)\n",
        "\n",
        "print(\"\\n SUMMARY \\n\")\n",
        "for sentence in summary:\n",
        "    print(sentence.text)"
      ],
      "metadata": {
        "colab": {
          "base_uri": "https://localhost:8080/"
        },
        "id": "mBPy2mAh6qVu",
        "outputId": "8ffc1dfa-44ed-4be1-b255-4748b66368c5"
      },
      "execution_count": 9,
      "outputs": [
        {
          "output_type": "stream",
          "name": "stdout",
          "text": [
            "\n",
            " SUMMARY \n",
            "\n",
            "Including her maiden voyage (launched August 30, 1984), Discovery flew to space thirty-nine times, more than any of the other four orbiters; she was also the first orbiter to fly twenty missions.\n",
            "Other notable engineering achievements of the orbiter included the first reusable orbital propulsion system, and the first two-fault-tolerant Integrated Avionics System.\n",
            "The Space Shuttle orbiter also featured the first reusable TPS; all previous spaceflight vehicles had a single-use, ablative heat shield.\n",
            "Under Criterion A, Discovery is significant as the oldest of the three extant orbiter vehicles constructed for the Space Shuttle Program (SSP), the longest running American space program to date; she was the third of five orbiters built by NASA.\n",
            "Discovery was the first shuttle to fly with the redesigned SRBs, a result of the Challenger accident, and the first shuttle to fly with the Phase II and Block I SSME.\n",
            "She flew the first and last dedicated Department of Defense (DoD) missions, as well as the first unclassified defense-related mission.\n",
            "She was the first orbiter to dock to the ISS, and the first to perform an exchange of a resident crew.\n",
            "According to Wayne Hale, a flight director from Johnson Space Center, the Space Shuttle orbiter represents a “huge technological leap from expendable rockets and capsules to a reusable, winged, hypersonic, cargo-carrying spacecraft.”\n",
            "Although her base structure followed a conventional aircraft design, she used advanced materials that both minimized her weight for cargo-carrying purposes and featured low thermal expansion ratios, which provided a stable base for her Thermal Protection System (TPS) materials.\n",
            "In addition, Discovery was vital to the construction of the International Space Station (ISS); she flew thirteen of the thirty-seven total missions flown to the station by a U.S. Space Shuttle.\n",
            "As Hale stated, the Space Shuttle remains “the largest, fastest, winged hypersonic aircraft in history,” having regularly flown at twenty-five times the speed of sound.\n",
            "The Orbiter Discovery, OV-103, is considered eligible for listing in the National Register of Historic Places (NRHP) in the context of the U.S. Space Shuttle Program (1969-2011) under Criterion A in the areas of Space Exploration and Transportation and under Criterion C in the area of Engineering.\n",
            "Discovery also carried the Hubble Space Telescope to orbit and performed two of the five servicing missions to the observatory.\n",
            "Unlike the Mercury, Gemini, and Apollo programs, the SSP’s emphasis was on cost effectiveness and reusability, and eventually the construction of a space station.\n",
            "Because it has achieved significance within the past fifty years, Criteria Consideration G applies.\n",
            "She had the honor of being chosen as the Return to Flight vehicle after both the Challenger and Columbia accidents.\n"
          ]
        }
      ]
    }
  ]
}